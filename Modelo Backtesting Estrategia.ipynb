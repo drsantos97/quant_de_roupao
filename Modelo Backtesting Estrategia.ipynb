{
 "cells": [
  {
   "cell_type": "code",
   "execution_count": 150,
   "metadata": {},
   "outputs": [],
   "source": [
    "import pandas as pd\n",
    "import yfinance as yf\n",
    "import numpy as np\n",
    "import datetime as dt\n",
    "import copy\n",
    "import matplotlib.pyplot as plt\n",
    "from yahooquery import Ticker\n",
    "import time"
   ]
  },
  {
   "cell_type": "code",
   "execution_count": 151,
   "metadata": {},
   "outputs": [
    {
     "data": {
      "text/html": [
       "<div>\n",
       "<style scoped>\n",
       "    .dataframe tbody tr th:only-of-type {\n",
       "        vertical-align: middle;\n",
       "    }\n",
       "\n",
       "    .dataframe tbody tr th {\n",
       "        vertical-align: top;\n",
       "    }\n",
       "\n",
       "    .dataframe thead th {\n",
       "        text-align: right;\n",
       "    }\n",
       "</style>\n",
       "<table border=\"1\" class=\"dataframe\">\n",
       "  <thead>\n",
       "    <tr style=\"text-align: right;\">\n",
       "      <th></th>\n",
       "      <th>Código</th>\n",
       "      <th>Ação</th>\n",
       "      <th>Tipo</th>\n",
       "      <th>Qtde. Teórica</th>\n",
       "      <th>Part. (%)</th>\n",
       "      <th>Setor</th>\n",
       "      <th>Subsetor</th>\n",
       "      <th>Segmento</th>\n",
       "    </tr>\n",
       "  </thead>\n",
       "  <tbody>\n",
       "    <tr>\n",
       "      <th>0</th>\n",
       "      <td>ABEV3</td>\n",
       "      <td>AMBEV S/A</td>\n",
       "      <td>ON</td>\n",
       "      <td>4.354.228.928</td>\n",
       "      <td>2936.0</td>\n",
       "      <td>Consumo não Cíclico</td>\n",
       "      <td>Bebidas</td>\n",
       "      <td>Cervejas e Refrigerantes</td>\n",
       "    </tr>\n",
       "    <tr>\n",
       "      <th>1</th>\n",
       "      <td>ALPA4</td>\n",
       "      <td>ALPARGATAS</td>\n",
       "      <td>PN N1</td>\n",
       "      <td>187.007.704</td>\n",
       "      <td>328.0</td>\n",
       "      <td>Consumo Cíclico</td>\n",
       "      <td>Tecidos, Vestuário e Calçados</td>\n",
       "      <td>Calçados</td>\n",
       "    </tr>\n",
       "    <tr>\n",
       "      <th>2</th>\n",
       "      <td>ALSO3</td>\n",
       "      <td>ALIANSCSONAE</td>\n",
       "      <td>ON NM</td>\n",
       "      <td>127.374.163</td>\n",
       "      <td>186.0</td>\n",
       "      <td>Financeiro</td>\n",
       "      <td>Exploração de Imóveis</td>\n",
       "      <td>Exploração de Imóveis</td>\n",
       "    </tr>\n",
       "    <tr>\n",
       "      <th>3</th>\n",
       "      <td>AZUL4</td>\n",
       "      <td>AZUL</td>\n",
       "      <td>PN N2</td>\n",
       "      <td>317.471.474</td>\n",
       "      <td>363.0</td>\n",
       "      <td>Bens Industriais</td>\n",
       "      <td>Transporte</td>\n",
       "      <td>Transporte Aéreo</td>\n",
       "    </tr>\n",
       "    <tr>\n",
       "      <th>4</th>\n",
       "      <td>B3SA3</td>\n",
       "      <td>B3</td>\n",
       "      <td>ON NM</td>\n",
       "      <td>2.046.021.644</td>\n",
       "      <td>6301.0</td>\n",
       "      <td>Financeiro</td>\n",
       "      <td>Serviços Financeiros Diversos</td>\n",
       "      <td>Serviços Financeiros Diversos</td>\n",
       "    </tr>\n",
       "  </tbody>\n",
       "</table>\n",
       "</div>"
      ],
      "text/plain": [
       "  Código           Ação   Tipo  Qtde. Teórica  Part. (%)                Setor  \\\n",
       "0   ABEV3     AMBEV S/A     ON  4.354.228.928     2936.0  Consumo não Cíclico   \n",
       "1   ALPA4    ALPARGATAS  PN N1    187.007.704      328.0      Consumo Cíclico   \n",
       "2   ALSO3  ALIANSCSONAE  ON NM    127.374.163      186.0           Financeiro   \n",
       "3   AZUL4          AZUL  PN N2    317.471.474      363.0     Bens Industriais   \n",
       "4   B3SA3            B3  ON NM  2.046.021.644     6301.0           Financeiro   \n",
       "\n",
       "                        Subsetor                       Segmento  \n",
       "0                        Bebidas       Cervejas e Refrigerantes  \n",
       "1  Tecidos, Vestuário e Calçados                       Calçados  \n",
       "2          Exploração de Imóveis          Exploração de Imóveis  \n",
       "3                     Transporte               Transporte Aéreo  \n",
       "4  Serviços Financeiros Diversos  Serviços Financeiros Diversos  "
      ]
     },
     "execution_count": 151,
     "metadata": {},
     "output_type": "execute_result"
    }
   ],
   "source": [
    "#importando base\n",
    "df_ibrx = pd.read_excel(r'C:\\Users\\drsan\\OneDrive\\Área de Trabalho\\Python\\ETFs_Onshore.xlsx',sheet_name = 'IBRX100')\n",
    "df_ibrx.head()"
   ]
  },
  {
   "cell_type": "code",
   "execution_count": 152,
   "metadata": {},
   "outputs": [],
   "source": [
    "# dando aquele tapa\n",
    "df = df_ibrx\n",
    "df = pd.DataFrame(df) \n",
    "df = df.dropna()\n",
    "df['Part. (%)'] /= 100000\n",
    "df.rename(columns={'Código\\xa0':'Codigo'}, inplace = True)\n",
    "df['Codigo'] = df['Codigo'] + \".SA\"\n",
    "tickers = df['Codigo']"
   ]
  },
  {
   "cell_type": "code",
   "execution_count": 153,
   "metadata": {},
   "outputs": [],
   "source": [
    "#auxiliares estrategias\n",
    "def stochastic(x,a,b):\n",
    "    # x = matriz de precos\n",
    "    # a = periodo stochastic\n",
    "    # b = signal\n",
    "    df = x.copy()\n",
    "    df['%K'] = (df['Close']-df['Low'].rolling(a).min())/(df['High'].rolling(a).max()-df['Low'].rolling(a).min())*100\n",
    "    df['%D'] = df['%K'].rolling(b).mean()\n",
    "    return df\n",
    "\n",
    "def MACD(x,a,b,c):\n",
    "    # x = matriz de precos\n",
    "    # a = fast mov avg\n",
    "    # b = slow mov avg\n",
    "    # c = signal\n",
    "    df = x.copy()\n",
    "    df['MACD'] = df['Close'].ewm(span=a).mean() - df['Close'].ewm(span=b).mean()\n",
    "    df['MACD_Signal'] = df['MACD'].ewm(span=c).mean()\n",
    "    return df\n",
    "\n",
    "def SMA(x,a,b):\n",
    "    # x = matriz de precos\n",
    "    # a = fast mov avg\n",
    "    # b = slow mov avg\n",
    "    df = x.copy()\n",
    "    df['SMA_Fast'] = df['Close'].rolling(a).mean()\n",
    "    df['SMA_Slow'] = df['Close'].rolling(b).mean()\n",
    "    return df\n",
    "\n",
    "def EMA(x,a,b):\n",
    "    # x = matriz de precos\n",
    "    # a = fast mov avg\n",
    "    # b = slow mov avg\n",
    "    df = x.copy()\n",
    "    df['EMA_Fast'] = df['Close'].ewm(span=a).mean()\n",
    "    df['EMA_Slow'] = df['Close'].ewm(span=b).mean()\n",
    "    return df"
   ]
  },
  {
   "cell_type": "code",
   "execution_count": 154,
   "metadata": {},
   "outputs": [],
   "source": [
    "def trades(x,y):\n",
    "    # x = matriz de precos com trade_signal\n",
    "    # y e o ativo\n",
    "    df = x.copy()\n",
    "    df_trades = pd.DataFrame(columns=['ativo','data_entrada','preco_entrada','data_saida','preco_saida','periodos'])\n",
    "    ativo = y\n",
    "    \n",
    "    for i in range(len(df)):\n",
    "        \n",
    "        if i == 0:\n",
    "            if df['trade_signal'][i] == 'Buy':\n",
    "                data_entrada = df.index[i]\n",
    "                preco_entrada = df['Close'][i]\n",
    "                contador = i\n",
    "                                        \n",
    "        elif df['trade_signal'][i-1] == '' and df['trade_signal'][i] == 'Buy':          \n",
    "            data_entrada = df.index[i]\n",
    "            preco_entrada = df['Close'][i]\n",
    "            contador = i\n",
    "            \n",
    "        elif df['trade_signal'][i-1] == 'Buy' and df['trade_signal'][i] == '':\n",
    "            data_saida = df.index[i]\n",
    "            preco_saida = df['Close'][i]\n",
    "            periodos = i - contador\n",
    "            df_trades.loc[len(df_trades)] = [ativo,data_entrada,preco_entrada,data_saida,preco_saida,periodos]\n",
    "    \n",
    "    df_trades['return'] = df_trades['preco_saida']/df_trades['preco_entrada'] - 1\n",
    "    return df_trades"
   ]
  },
  {
   "cell_type": "code",
   "execution_count": 155,
   "metadata": {},
   "outputs": [],
   "source": [
    "def trades_KPIs(x):\n",
    "    # x = matriz de trades \n",
    "    df = x.copy()\n",
    "    df_KPIs = pd.DataFrame({'return':[df['return'].mean()]})\n",
    "    \n",
    "    #return\n",
    "    #df_KPIs['return'] = df['return'].mean()\n",
    "    df_KPIs['vol'] = df['return'].std()\n",
    "    df_KPIs['sharpe'] = df_KPIs['return']/df_KPIs['vol']\n",
    "    \n",
    "    #trades\n",
    "    df_KPIs['qtd_trades'] = len(df)\n",
    "    df_KPIs['win_trades'] = len(df[df['return']>0])\n",
    "    df_KPIs['win_ratio'] = df_KPIs['win_trades'] / df_KPIs['qtd_trades']\n",
    "    df_KPIs['avg_duration'] = df['periodos'].mean()\n",
    "    \n",
    "    #avg ratios\n",
    "    df_KPIs['avg_win'] = df[df['return']>0]['return'].mean()\n",
    "    df_KPIs['avg_loss'] = df[df['return']<=0]['return'].mean()\n",
    "    df_KPIs['avg_win_vs_loss'] = df_KPIs['avg_win']/abs(df_KPIs['avg_loss'])\n",
    "    df_KPIs['top_win'] = df[df['return']>0]['return'].max()\n",
    "    df_KPIs['top_loss'] = df[df['return']<=0]['return'].min()\n",
    "\n",
    "    return df_KPIs"
   ]
  },
  {
   "cell_type": "code",
   "execution_count": 156,
   "metadata": {},
   "outputs": [],
   "source": [
    "def trade_signal(x):\n",
    "    # x = matriz de precos\n",
    "    df = x.copy()\n",
    "    df = stochastic(EMA(SMA(df,5,20),5,20),20,3)\n",
    "    df['trade_signal'] = ''\n",
    "    df['return'] = float(0)\n",
    "    \n",
    "    for i in range(len(df)):\n",
    "        \n",
    "        if df['trade_signal'][i-1] == '':\n",
    "            if df['Close'][i] > df['EMA_Fast'][i] and df['Close'][i] < df['SMA_Slow'][i] and \\\n",
    "            df['%K'][i] < 30:\n",
    "                df['trade_signal'][i] = 'Buy'\n",
    "        \n",
    "        if df['trade_signal'][i-1] == \"Buy\":\n",
    "            df['return'][i] = df['Close'][i] / df['Close'][i-1] - 1\n",
    "            if df['Close'][i] <= df['EMA_Fast'][i] or df['Close'][i] >= df['SMA_Slow'][i] or \\\n",
    "            df['%K'][i] > 50:\n",
    "                df['trade_signal'][i] = ''\n",
    "            else:\n",
    "                df['trade_signal'][i] = 'Buy'\n",
    "              \n",
    "    return df"
   ]
  },
  {
   "cell_type": "code",
   "execution_count": 157,
   "metadata": {},
   "outputs": [],
   "source": [
    "def trade_signal_MODELO(x):\n",
    "    # x = matriz de precos\n",
    "    df = x.copy()\n",
    "    df = stochastic(SMA(df,5,20),5,3)\n",
    "    df['trade_signal'] = ''\n",
    "    df['return'] = float(0)\n",
    "    \n",
    "    for i in range(len(df)):\n",
    "        \n",
    "        if df['trade_signal'][i-1] == '':\n",
    "            if df['SMA_Fast'][i] > df['SMA_Slow'][i] and df['Close'][i] > df['SMA_Fast'][i] and \\\n",
    "            df['%K'][i] >= df['%D'][i] and df['%K'][i] < 30:\n",
    "                df['trade_signal'][i] = 'Buy'\n",
    "        \n",
    "        if df['trade_signal'][i-1] == \"Buy\":\n",
    "            df['return'][i] = df['Close'][i] / df['Close'][i-1] - 1\n",
    "            if df['SMA_Fast'][i] >= df['Close'][i] or \\\n",
    "            df['%K'][i] < df['%D'][i] or df['%K'][i] > 70:\n",
    "                df['trade_signal'][i] = ''\n",
    "            else:\n",
    "                df['trade_signal'][i] = 'Buy'\n",
    "              \n",
    "    return df"
   ]
  },
  {
   "cell_type": "code",
   "execution_count": 158,
   "metadata": {
    "scrolled": true
   },
   "outputs": [
    {
     "name": "stdout",
     "output_type": "stream",
     "text": [
      "[*********************100%***********************]  1 of 1 completed\n",
      "[*********************100%***********************]  1 of 1 completed\n",
      "[*********************100%***********************]  1 of 1 completed\n",
      "[*********************100%***********************]  1 of 1 completed\n",
      "[*********************100%***********************]  1 of 1 completed\n",
      "[*********************100%***********************]  1 of 1 completed\n",
      "[*********************100%***********************]  1 of 1 completed\n",
      "[*********************100%***********************]  1 of 1 completed\n",
      "[*********************100%***********************]  1 of 1 completed\n",
      "[*********************100%***********************]  1 of 1 completed\n",
      "[*********************100%***********************]  1 of 1 completed\n",
      "[*********************100%***********************]  1 of 1 completed\n",
      "[*********************100%***********************]  1 of 1 completed\n",
      "[*********************100%***********************]  1 of 1 completed\n",
      "[*********************100%***********************]  1 of 1 completed\n",
      "[*********************100%***********************]  1 of 1 completed\n",
      "[*********************100%***********************]  1 of 1 completed\n",
      "[*********************100%***********************]  1 of 1 completed\n",
      "[*********************100%***********************]  1 of 1 completed\n",
      "[*********************100%***********************]  1 of 1 completed\n",
      "[*********************100%***********************]  1 of 1 completed\n",
      "[*********************100%***********************]  1 of 1 completed\n",
      "[*********************100%***********************]  1 of 1 completed\n",
      "[*********************100%***********************]  1 of 1 completed\n",
      "[*********************100%***********************]  1 of 1 completed\n",
      "[*********************100%***********************]  1 of 1 completed\n",
      "[*********************100%***********************]  1 of 1 completed\n",
      "[*********************100%***********************]  1 of 1 completed\n",
      "[*********************100%***********************]  1 of 1 completed\n",
      "[*********************100%***********************]  1 of 1 completed\n",
      "[*********************100%***********************]  1 of 1 completed\n",
      "[*********************100%***********************]  1 of 1 completed\n",
      "[*********************100%***********************]  1 of 1 completed\n",
      "[*********************100%***********************]  1 of 1 completed\n",
      "[*********************100%***********************]  1 of 1 completed\n",
      "[*********************100%***********************]  1 of 1 completed\n",
      "[*********************100%***********************]  1 of 1 completed\n",
      "[*********************100%***********************]  1 of 1 completed\n",
      "[*********************100%***********************]  1 of 1 completed\n",
      "[*********************100%***********************]  1 of 1 completed\n",
      "[*********************100%***********************]  1 of 1 completed\n",
      "[*********************100%***********************]  1 of 1 completed\n",
      "[*********************100%***********************]  1 of 1 completed\n",
      "[*********************100%***********************]  1 of 1 completed\n",
      "[*********************100%***********************]  1 of 1 completed\n",
      "[*********************100%***********************]  1 of 1 completed\n",
      "[*********************100%***********************]  1 of 1 completed\n",
      "[*********************100%***********************]  1 of 1 completed\n",
      "[*********************100%***********************]  1 of 1 completed\n",
      "[*********************100%***********************]  1 of 1 completed\n",
      "[*********************100%***********************]  1 of 1 completed\n",
      "[*********************100%***********************]  1 of 1 completed\n",
      "[*********************100%***********************]  1 of 1 completed\n",
      "[*********************100%***********************]  1 of 1 completed\n",
      "[*********************100%***********************]  1 of 1 completed\n",
      "[*********************100%***********************]  1 of 1 completed\n",
      "[*********************100%***********************]  1 of 1 completed\n",
      "[*********************100%***********************]  1 of 1 completed\n",
      "[*********************100%***********************]  1 of 1 completed\n",
      "[*********************100%***********************]  1 of 1 completed\n",
      "[*********************100%***********************]  1 of 1 completed\n",
      "[*********************100%***********************]  1 of 1 completed\n",
      "[*********************100%***********************]  1 of 1 completed\n",
      "[*********************100%***********************]  1 of 1 completed\n",
      "[*********************100%***********************]  1 of 1 completed\n",
      "[*********************100%***********************]  1 of 1 completed\n",
      "[*********************100%***********************]  1 of 1 completed\n",
      "[*********************100%***********************]  1 of 1 completed\n",
      "[*********************100%***********************]  1 of 1 completed\n",
      "[*********************100%***********************]  1 of 1 completed\n",
      "[*********************100%***********************]  1 of 1 completed\n",
      "[*********************100%***********************]  1 of 1 completed\n",
      "[*********************100%***********************]  1 of 1 completed\n",
      "[*********************100%***********************]  1 of 1 completed\n",
      "[*********************100%***********************]  1 of 1 completed\n",
      "[*********************100%***********************]  1 of 1 completed\n",
      "[*********************100%***********************]  1 of 1 completed\n",
      "[*********************100%***********************]  1 of 1 completed\n",
      "[*********************100%***********************]  1 of 1 completed\n",
      "[*********************100%***********************]  1 of 1 completed\n",
      "[*********************100%***********************]  1 of 1 completed\n",
      "[*********************100%***********************]  1 of 1 completed\n",
      "[*********************100%***********************]  1 of 1 completed\n",
      "[*********************100%***********************]  1 of 1 completed\n",
      "[*********************100%***********************]  1 of 1 completed\n",
      "[*********************100%***********************]  1 of 1 completed\n",
      "[*********************100%***********************]  1 of 1 completed\n",
      "[*********************100%***********************]  1 of 1 completed\n",
      "[*********************100%***********************]  1 of 1 completed\n",
      "[*********************100%***********************]  1 of 1 completed\n",
      "[*********************100%***********************]  1 of 1 completed\n",
      "[*********************100%***********************]  1 of 1 completed\n",
      "[*********************100%***********************]  1 of 1 completed\n",
      "[*********************100%***********************]  1 of 1 completed\n",
      "[*********************100%***********************]  1 of 1 completed\n",
      "[*********************100%***********************]  1 of 1 completed\n",
      "[*********************100%***********************]  1 of 1 completed\n",
      "[*********************100%***********************]  1 of 1 completed\n",
      "[*********************100%***********************]  1 of 1 completed\n",
      "[*********************100%***********************]  1 of 1 completed\n"
     ]
    }
   ],
   "source": [
    "start = dt.date.today() + dt.timedelta(1) - dt.timedelta(1080)\n",
    "end = dt.date.today() + dt.timedelta(1)\n",
    "prices = {}\n",
    "interval = '1d' #1d para diario, 5m para 5minutos\n",
    "for t in tickers:\n",
    "    try:\n",
    "        prices[t] = yf.download(t,start,end,interval)\n",
    "    except: \n",
    "        continue\n",
    "    prices[t].dropna(how='all', inplace = True)"
   ]
  },
  {
   "cell_type": "code",
   "execution_count": 159,
   "metadata": {
    "scrolled": true
   },
   "outputs": [
    {
     "name": "stdout",
     "output_type": "stream",
     "text": [
      "ABEV3.SA passthrough at  2020-09-03 20:56:16\n"
     ]
    },
    {
     "name": "stderr",
     "output_type": "stream",
     "text": [
      "C:\\Users\\drsan\\anaconda3\\lib\\site-packages\\ipykernel_launcher.py:13: SettingWithCopyWarning: \n",
      "A value is trying to be set on a copy of a slice from a DataFrame\n",
      "\n",
      "See the caveats in the documentation: https://pandas.pydata.org/pandas-docs/stable/user_guide/indexing.html#returning-a-view-versus-a-copy\n",
      "  del sys.path[0]\n",
      "C:\\Users\\drsan\\anaconda3\\lib\\site-packages\\ipykernel_launcher.py:16: SettingWithCopyWarning: \n",
      "A value is trying to be set on a copy of a slice from a DataFrame\n",
      "\n",
      "See the caveats in the documentation: https://pandas.pydata.org/pandas-docs/stable/user_guide/indexing.html#returning-a-view-versus-a-copy\n",
      "  app.launch_new_instance()\n",
      "C:\\Users\\drsan\\anaconda3\\lib\\site-packages\\ipykernel_launcher.py:21: SettingWithCopyWarning: \n",
      "A value is trying to be set on a copy of a slice from a DataFrame\n",
      "\n",
      "See the caveats in the documentation: https://pandas.pydata.org/pandas-docs/stable/user_guide/indexing.html#returning-a-view-versus-a-copy\n",
      "C:\\Users\\drsan\\anaconda3\\lib\\site-packages\\ipykernel_launcher.py:19: SettingWithCopyWarning: \n",
      "A value is trying to be set on a copy of a slice from a DataFrame\n",
      "\n",
      "See the caveats in the documentation: https://pandas.pydata.org/pandas-docs/stable/user_guide/indexing.html#returning-a-view-versus-a-copy\n"
     ]
    },
    {
     "name": "stdout",
     "output_type": "stream",
     "text": [
      "ALPA4.SA passthrough at  2020-09-03 20:56:16\n",
      "ALSO3.SA passthrough at  2020-09-03 20:56:17\n",
      "AZUL4.SA passthrough at  2020-09-03 20:56:17\n",
      "B3SA3.SA passthrough at  2020-09-03 20:56:17\n",
      "BBAS3.SA passthrough at  2020-09-03 20:56:17\n",
      "BBDC3.SA passthrough at  2020-09-03 20:56:17\n",
      "BBDC4.SA passthrough at  2020-09-03 20:56:17\n",
      "BBSE3.SA passthrough at  2020-09-03 20:56:18\n",
      "BEEF3.SA passthrough at  2020-09-03 20:56:18\n",
      "BIDI11.SA passthrough at  2020-09-03 20:56:18\n",
      "BPAC11.SA passthrough at  2020-09-03 20:56:18\n",
      "BPAN4.SA passthrough at  2020-09-03 20:56:18\n",
      "BRAP4.SA passthrough at  2020-09-03 20:56:18\n",
      "BRDT3.SA passthrough at  2020-09-03 20:56:19\n",
      "BRFS3.SA passthrough at  2020-09-03 20:56:19\n",
      "BRKM5.SA passthrough at  2020-09-03 20:56:19\n",
      "BRML3.SA passthrough at  2020-09-03 20:56:19\n",
      "BRSR6.SA passthrough at  2020-09-03 20:56:19\n",
      "BTOW3.SA passthrough at  2020-09-03 20:56:20\n",
      "CCRO3.SA passthrough at  2020-09-03 20:56:20\n",
      "CESP6.SA passthrough at  2020-09-03 20:56:20\n",
      "CIEL3.SA passthrough at  2020-09-03 20:56:20\n",
      "CMIG4.SA passthrough at  2020-09-03 20:56:20\n",
      "COGN3.SA passthrough at  2020-09-03 20:56:21\n",
      "CPFE3.SA passthrough at  2020-09-03 20:56:21\n",
      "CPLE6.SA passthrough at  2020-09-03 20:56:21\n",
      "CRFB3.SA passthrough at  2020-09-03 20:56:21\n",
      "CSAN3.SA passthrough at  2020-09-03 20:56:21\n",
      "CSMG3.SA passthrough at  2020-09-03 20:56:21\n",
      "CSNA3.SA passthrough at  2020-09-03 20:56:22\n",
      "CVCB3.SA passthrough at  2020-09-03 20:56:22\n",
      "CYRE3.SA passthrough at  2020-09-03 20:56:22\n",
      "DTEX3.SA passthrough at  2020-09-03 20:56:22\n",
      "ECOR3.SA passthrough at  2020-09-03 20:56:22\n",
      "EGIE3.SA passthrough at  2020-09-03 20:56:23\n",
      "ELET3.SA passthrough at  2020-09-03 20:56:23\n",
      "ELET6.SA passthrough at  2020-09-03 20:56:23\n",
      "EMBR3.SA passthrough at  2020-09-03 20:56:23\n",
      "ENBR3.SA passthrough at  2020-09-03 20:56:23\n",
      "ENEV3.SA passthrough at  2020-09-03 20:56:23\n",
      "ENGI11.SA passthrough at  2020-09-03 20:56:24\n",
      "EQTL3.SA passthrough at  2020-09-03 20:56:24\n",
      "EZTC3.SA passthrough at  2020-09-03 20:56:24\n",
      "FLRY3.SA passthrough at  2020-09-03 20:56:24\n",
      "GGBR4.SA passthrough at  2020-09-03 20:56:24\n",
      "GNDI3.SA passthrough at  2020-09-03 20:56:25\n",
      "GOAU4.SA passthrough at  2020-09-03 20:56:25\n",
      "GOLL4.SA passthrough at  2020-09-03 20:56:25\n",
      "HAPV3.SA passthrough at  2020-09-03 20:56:25\n",
      "HGTX3.SA passthrough at  2020-09-03 20:56:25\n",
      "HYPE3.SA passthrough at  2020-09-03 20:56:25\n",
      "IGTA3.SA passthrough at  2020-09-03 20:56:26\n",
      "IRBR3.SA passthrough at  2020-09-03 20:56:26\n",
      "ITSA4.SA passthrough at  2020-09-03 20:56:26\n",
      "ITUB4.SA passthrough at  2020-09-03 20:56:26\n",
      "JBSS3.SA passthrough at  2020-09-03 20:56:26\n",
      "KLBN11.SA passthrough at  2020-09-03 20:56:26\n",
      "LAME4.SA passthrough at  2020-09-03 20:56:27\n",
      "LCAM3.SA passthrough at  2020-09-03 20:56:27\n",
      "LIGT3.SA passthrough at  2020-09-03 20:56:27\n",
      "LINX3.SA passthrough at  2020-09-03 20:56:27\n",
      "LREN3.SA passthrough at  2020-09-03 20:56:27\n",
      "MDIA3.SA passthrough at  2020-09-03 20:56:28\n",
      "MGLU3.SA passthrough at  2020-09-03 20:56:28\n",
      "MOVI3.SA passthrough at  2020-09-03 20:56:28\n",
      "MRFG3.SA passthrough at  2020-09-03 20:56:28\n",
      "MRVE3.SA passthrough at  2020-09-03 20:56:28\n",
      "MULT3.SA passthrough at  2020-09-03 20:56:28\n",
      "MYPK3.SA passthrough at  2020-09-03 20:56:29\n",
      "NEOE3.SA passthrough at  2020-09-03 20:56:29\n",
      "NTCO3.SA passthrough at  2020-09-03 20:56:29\n",
      "PCAR3.SA passthrough at  2020-09-03 20:56:29\n",
      "PETR3.SA passthrough at  2020-09-03 20:56:29\n",
      "PETR4.SA passthrough at  2020-09-03 20:56:29\n",
      "PRIO3.SA passthrough at  2020-09-03 20:56:29\n",
      "PSSA3.SA passthrough at  2020-09-03 20:56:30\n",
      "QUAL3.SA passthrough at  2020-09-03 20:56:30\n",
      "RADL3.SA passthrough at  2020-09-03 20:56:30\n",
      "RAIL3.SA passthrough at  2020-09-03 20:56:30\n",
      "RAPT4.SA passthrough at  2020-09-03 20:56:30\n",
      "RENT3.SA passthrough at  2020-09-03 20:56:30\n",
      "SANB11.SA passthrough at  2020-09-03 20:56:31\n",
      "SAPR11.SA passthrough at  2020-09-03 20:56:31\n",
      "SBSP3.SA passthrough at  2020-09-03 20:56:31\n",
      "SMLS3.SA passthrough at  2020-09-03 20:56:31\n",
      "SULA11.SA passthrough at  2020-09-03 20:56:31\n",
      "SUZB3.SA passthrough at  2020-09-03 20:56:31\n",
      "TAEE11.SA passthrough at  2020-09-03 20:56:32\n",
      "TCSA3.SA passthrough at  2020-09-03 20:56:32\n",
      "TIMP3.SA passthrough at  2020-09-03 20:56:32\n",
      "TOTS3.SA passthrough at  2020-09-03 20:56:32\n",
      "TRPL4.SA passthrough at  2020-09-03 20:56:32\n",
      "UGPA3.SA passthrough at  2020-09-03 20:56:33\n",
      "USIM5.SA passthrough at  2020-09-03 20:56:33\n",
      "VALE3.SA passthrough at  2020-09-03 20:56:33\n",
      "VIVT4.SA passthrough at  2020-09-03 20:56:33\n",
      "VVAR3.SA passthrough at  2020-09-03 20:56:33\n",
      "WEGE3.SA passthrough at  2020-09-03 20:56:34\n",
      "YDUQ3.SA passthrough at  2020-09-03 20:56:34\n"
     ]
    }
   ],
   "source": [
    "tickers2 = tickers[:]\n",
    "portfolio = {}\n",
    "df_trades = pd.DataFrame()\n",
    "returns = pd.DataFrame()\n",
    "for t in tickers2:\n",
    "    print(t, \"passthrough at \",time.strftime('%Y-%m-%d %H:%M:%S', time.localtime(time.time())))\n",
    "    portfolio[t] = trade_signal(prices[t])\n",
    "    df_trades = pd.concat([df_trades,trades(portfolio[t],t)])\n",
    "    df_trades.reset_index(drop=True, inplace=True)\n",
    "    returns[t] = portfolio[t]['return']"
   ]
  },
  {
   "cell_type": "code",
   "execution_count": 160,
   "metadata": {
    "scrolled": true
   },
   "outputs": [
    {
     "data": {
      "text/html": [
       "<div>\n",
       "<style scoped>\n",
       "    .dataframe tbody tr th:only-of-type {\n",
       "        vertical-align: middle;\n",
       "    }\n",
       "\n",
       "    .dataframe tbody tr th {\n",
       "        vertical-align: top;\n",
       "    }\n",
       "\n",
       "    .dataframe thead th {\n",
       "        text-align: right;\n",
       "    }\n",
       "</style>\n",
       "<table border=\"1\" class=\"dataframe\">\n",
       "  <thead>\n",
       "    <tr style=\"text-align: right;\">\n",
       "      <th></th>\n",
       "      <th>return</th>\n",
       "      <th>vol</th>\n",
       "      <th>sharpe</th>\n",
       "      <th>qtd_trades</th>\n",
       "      <th>win_trades</th>\n",
       "      <th>win_ratio</th>\n",
       "      <th>avg_duration</th>\n",
       "      <th>avg_win</th>\n",
       "      <th>avg_loss</th>\n",
       "      <th>avg_win_vs_loss</th>\n",
       "      <th>top_win</th>\n",
       "      <th>top_loss</th>\n",
       "    </tr>\n",
       "  </thead>\n",
       "  <tbody>\n",
       "    <tr>\n",
       "      <th>0</th>\n",
       "      <td>0.000597</td>\n",
       "      <td>0.041676</td>\n",
       "      <td>0.014333</td>\n",
       "      <td>1515</td>\n",
       "      <td>522</td>\n",
       "      <td>0.344554</td>\n",
       "      <td>1.892409</td>\n",
       "      <td>0.042441</td>\n",
       "      <td>-0.021399</td>\n",
       "      <td>1.983315</td>\n",
       "      <td>0.403704</td>\n",
       "      <td>-0.21358</td>\n",
       "    </tr>\n",
       "  </tbody>\n",
       "</table>\n",
       "</div>"
      ],
      "text/plain": [
       "     return       vol    sharpe  qtd_trades  win_trades  win_ratio  \\\n",
       "0  0.000597  0.041676  0.014333        1515         522   0.344554   \n",
       "\n",
       "   avg_duration   avg_win  avg_loss  avg_win_vs_loss   top_win  top_loss  \n",
       "0      1.892409  0.042441 -0.021399         1.983315  0.403704  -0.21358  "
      ]
     },
     "execution_count": 160,
     "metadata": {},
     "output_type": "execute_result"
    }
   ],
   "source": [
    "trades_KPIs(df_trades)"
   ]
  },
  {
   "cell_type": "code",
   "execution_count": 161,
   "metadata": {},
   "outputs": [
    {
     "data": {
      "text/plain": [
       "<matplotlib.axes._subplots.AxesSubplot at 0x2e5dbf04c08>"
      ]
     },
     "execution_count": 161,
     "metadata": {},
     "output_type": "execute_result"
    },
    {
     "data": {
      "image/png": "[encoded data removed]",
      "text/plain": [
       "<Figure size 432x288 with 1 Axes>"
      ]
     },
     "metadata": {
      "needs_background": "light"
     },
     "output_type": "display_data"
    }
   ],
   "source": [
    "(df_trades['return']).plot.hist()"
   ]
  },
  {
   "cell_type": "code",
   "execution_count": 169,
   "metadata": {},
   "outputs": [
    {
     "data": {
      "text/plain": [
       "<matplotlib.axes._subplots.AxesSubplot at 0x2e5dc17cd88>"
      ]
     },
     "execution_count": 169,
     "metadata": {},
     "output_type": "execute_result"
    },
    {
     "data": {
      "image/png": "[encoded data removed]",
      "text/plain": [
       "<Figure size 432x288 with 1 Axes>"
      ]
     },
     "metadata": {
      "needs_background": "light"
     },
     "output_type": "display_data"
    }
   ],
   "source": [
    "# matriz de retornos para grafico\n",
    "returns['total'] = [returns.iloc[i][returns.iloc[i]!=0].mean() for i in range(len(returns))]\n",
    "(returns['total'][returns['total'].isnull() == False]+1).cumprod().plot()"
   ]
  },
  {
   "cell_type": "code",
   "execution_count": 189,
   "metadata": {},
   "outputs": [
    {
     "data": {
      "text/plain": [
       "Date\n",
       "2018-06-21   -1.020137\n",
       "2020-03-25    3.068559\n",
       "2020-03-26    3.698057\n",
       "2020-03-27   -3.259742\n",
       "2020-03-31   -1.258668\n",
       "dtype: float64"
      ]
     },
     "execution_count": 189,
     "metadata": {},
     "output_type": "execute_result"
    }
   ],
   "source": [
    "returns.iloc[:,:-1].sum(axis=1)[abs(returns.iloc[:,:-1].sum(axis=1))>1]"
   ]
  },
  {
   "cell_type": "code",
   "execution_count": 163,
   "metadata": {},
   "outputs": [
    {
     "name": "stdout",
     "output_type": "stream",
     "text": [
      "[*********************100%***********************]  1 of 1 completed\n"
     ]
    }
   ],
   "source": [
    "#bovespa para comparacao\n",
    "bench = pd.DataFrame()\n",
    "bench = yf.download('BOVA11.SA',start,end,interval)['Close']"
   ]
  },
  {
   "cell_type": "code",
   "execution_count": 164,
   "metadata": {},
   "outputs": [
    {
     "data": {
      "image/png": "[encoded data removed]",
      "text/plain": [
       "<Figure size 1080x360 with 1 Axes>"
      ]
     },
     "metadata": {
      "needs_background": "light"
     },
     "output_type": "display_data"
    }
   ],
   "source": [
    "# grafico estrategia vs bovespa\n",
    "plt.figure(figsize=(15,5))\n",
    "plt.plot((bench.shift(-1)/bench).cumprod(), label ='bovespa')\n",
    "plt.plot((returns['total'][returns['total'].isnull() == False]+1).cumprod(), label ='estrategia')\n",
    "plt.legend()\n",
    "plt.show()"
   ]
  },
  {
   "cell_type": "code",
   "execution_count": null,
   "metadata": {},
   "outputs": [],
   "source": []
  }
 ],
 "metadata": {
  "kernelspec": {
   "display_name": "Python 3",
   "language": "python",
   "name": "python3"
  },
  "language_info": {
   "codemirror_mode": {
    "name": "ipython",
    "version": 3
   },
   "file_extension": ".py",
   "mimetype": "text/x-python",
   "name": "python",
   "nbconvert_exporter": "python",
   "pygments_lexer": "ipython3",
   "version": "3.7.6"
  }
 },
 "nbformat": 4,
 "nbformat_minor": 4
}
