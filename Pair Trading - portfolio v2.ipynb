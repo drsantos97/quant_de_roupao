{
 "cells": [
  {
   "cell_type": "code",
   "execution_count": 107,
   "metadata": {},
   "outputs": [],
   "source": [
    "import pandas as pd\n",
    "import pandas_datareader as pdr\n",
    "import yfinance as yf\n",
    "import numpy as np\n",
    "import datetime as dt\n",
    "import copy\n",
    "import matplotlib.pyplot as plt\n",
    "from yahooquery import Ticker\n",
    "\n",
    "import statsmodels\n",
    "import statsmodels.api as sm\n",
    "from statsmodels.tsa.stattools import coint\n",
    "from statsmodels.regression.rolling import RollingOLS"
   ]
  },
  {
   "cell_type": "code",
   "execution_count": 108,
   "metadata": {},
   "outputs": [
    {
     "data": {
      "text/html": [
       "<div>\n",
       "<style scoped>\n",
       "    .dataframe tbody tr th:only-of-type {\n",
       "        vertical-align: middle;\n",
       "    }\n",
       "\n",
       "    .dataframe tbody tr th {\n",
       "        vertical-align: top;\n",
       "    }\n",
       "\n",
       "    .dataframe thead th {\n",
       "        text-align: right;\n",
       "    }\n",
       "</style>\n",
       "<table border=\"1\" class=\"dataframe\">\n",
       "  <thead>\n",
       "    <tr style=\"text-align: right;\">\n",
       "      <th></th>\n",
       "      <th>Código</th>\n",
       "      <th>Ação</th>\n",
       "      <th>Tipo</th>\n",
       "      <th>Qtde. Teórica</th>\n",
       "      <th>Part. (%)</th>\n",
       "      <th>Setor</th>\n",
       "      <th>Subsetor</th>\n",
       "      <th>Segmento</th>\n",
       "    </tr>\n",
       "  </thead>\n",
       "  <tbody>\n",
       "    <tr>\n",
       "      <th>0</th>\n",
       "      <td>BBAS3</td>\n",
       "      <td>BRASIL</td>\n",
       "      <td>ON NM</td>\n",
       "      <td>1.418.466.803</td>\n",
       "      <td>2393.0</td>\n",
       "      <td>Financeiro</td>\n",
       "      <td>Intermediários Financeiros</td>\n",
       "      <td>Gás</td>\n",
       "    </tr>\n",
       "    <tr>\n",
       "      <th>1</th>\n",
       "      <td>BBDC3</td>\n",
       "      <td>BRADESCO</td>\n",
       "      <td>ON N1</td>\n",
       "      <td>1.253.093.907</td>\n",
       "      <td>1253.0</td>\n",
       "      <td>Financeiro</td>\n",
       "      <td>Intermediários Financeiros</td>\n",
       "      <td>Gás</td>\n",
       "    </tr>\n",
       "    <tr>\n",
       "      <th>2</th>\n",
       "      <td>BBDC4</td>\n",
       "      <td>BRADESCO</td>\n",
       "      <td>PN N1</td>\n",
       "      <td>4.261.649.634</td>\n",
       "      <td>4600.0</td>\n",
       "      <td>Financeiro</td>\n",
       "      <td>Intermediários Financeiros</td>\n",
       "      <td>Gás</td>\n",
       "    </tr>\n",
       "    <tr>\n",
       "      <th>3</th>\n",
       "      <td>BBSE3</td>\n",
       "      <td>BBSEGURIDADE</td>\n",
       "      <td>ON ED NM</td>\n",
       "      <td>671.601.167</td>\n",
       "      <td>923.0</td>\n",
       "      <td>Financeiro</td>\n",
       "      <td>Previdência e Seguros</td>\n",
       "      <td>Seguradoras</td>\n",
       "    </tr>\n",
       "    <tr>\n",
       "      <th>4</th>\n",
       "      <td>BIDI11</td>\n",
       "      <td>BANCO INTER</td>\n",
       "      <td>UNT N2</td>\n",
       "      <td>133.605.928</td>\n",
       "      <td>405.0</td>\n",
       "      <td>Financeiro</td>\n",
       "      <td>Intermediários Financeiros</td>\n",
       "      <td>Gás</td>\n",
       "    </tr>\n",
       "  </tbody>\n",
       "</table>\n",
       "</div>"
      ],
      "text/plain": [
       "  Código           Ação      Tipo  Qtde. Teórica  Part. (%)       Setor  \\\n",
       "0   BBAS3        BRASIL     ON NM  1.418.466.803     2393.0  Financeiro   \n",
       "1   BBDC3      BRADESCO     ON N1  1.253.093.907     1253.0  Financeiro   \n",
       "2   BBDC4      BRADESCO     PN N1  4.261.649.634     4600.0  Financeiro   \n",
       "3   BBSE3  BBSEGURIDADE  ON ED NM    671.601.167      923.0  Financeiro   \n",
       "4  BIDI11   BANCO INTER    UNT N2    133.605.928      405.0  Financeiro   \n",
       "\n",
       "                     Subsetor     Segmento  \n",
       "0  Intermediários Financeiros          Gás  \n",
       "1  Intermediários Financeiros          Gás  \n",
       "2  Intermediários Financeiros          Gás  \n",
       "3       Previdência e Seguros  Seguradoras  \n",
       "4  Intermediários Financeiros          Gás  "
      ]
     },
     "execution_count": 108,
     "metadata": {},
     "output_type": "execute_result"
    }
   ],
   "source": [
    "#importando base\n",
    "df_ibrx = pd.read_excel('/Users/user/Desktop/Empresa/Pairs Strategy.xlsx', sheet_name = 'Possible Pair')\n",
    "df_ibrx.head()"
   ]
  },
  {
   "cell_type": "code",
   "execution_count": 109,
   "metadata": {},
   "outputs": [],
   "source": [
    "# dando aquele tapa\n",
    "df = df_ibrx\n",
    "df = pd.DataFrame(df) \n",
    "df = df.dropna()\n",
    "df['Part. (%)'] /= 100000\n",
    "df.rename(columns={'Código\\xa0':'Codigo'}, inplace = True)\n",
    "df['Codigo'] = df['Codigo'] + \".SA\"\n",
    "tickers = df['Codigo']"
   ]
  },
  {
   "cell_type": "code",
   "execution_count": 110,
   "metadata": {},
   "outputs": [],
   "source": [
    "def find_cointegrated_pairs(data):\n",
    "    n = data.shape[1]\n",
    "    score_matrix = np.zeros((n, n))\n",
    "    pvalue_matrix = np.ones((n, n))\n",
    "    keys = data.keys()\n",
    "    pairs = []\n",
    "    for i in range(n):\n",
    "        for j in range(i+1, n):\n",
    "            S1 = data[keys[i]]\n",
    "            S2 = data[keys[j]]\n",
    "            result = coint(S1, S2)\n",
    "            score = result[0]\n",
    "            pvalue = result[1]\n",
    "            score_matrix[i, j] = score\n",
    "            pvalue_matrix[i, j] = pvalue\n",
    "            if pvalue < 0.05:\n",
    "                pairs.append((keys[i], keys[j]))\n",
    "\n",
    "    return pd.DataFrame(pairs)"
   ]
  },
  {
   "cell_type": "code",
   "execution_count": 111,
   "metadata": {},
   "outputs": [],
   "source": [
    "def zscore(series):\n",
    "    return (series - series.mean()) / np.std(series)"
   ]
  },
  {
   "cell_type": "code",
   "execution_count": 112,
   "metadata": {},
   "outputs": [],
   "source": [
    "def zscore_spread(x,y):\n",
    "    #x = S1\n",
    "    #y = S2\n",
    "    rolling_beta = RollingOLS(x,y, window = 30)\n",
    "    rres = rolling_beta.fit()\n",
    "    params = rres.params\n",
    "    b_rolling = params.dropna()\n",
    "\n",
    "    spread_2 = y - b_rolling.T * x\n",
    "    spread_3 = pd.DataFrame()\n",
    "    spread_3 = spread_2.T\n",
    "    spread_3.name = 'spread'\n",
    "\n",
    "    # 1 day MAVG spread\n",
    "    spread_mavg1 = spread_3.rolling(1).mean()\n",
    "    spread_mavg1.name = 'spread 1d mavg'\n",
    "\n",
    "    # 30 day MAVG spread\n",
    "    spread_mavg30 = spread_3.rolling(30).mean()\n",
    "    spread_mavg30.name = 'spread 30d mavg'\n",
    "    \n",
    "    std_30 = spread_3.rolling(30).std()\n",
    "    std_30.name = 'std 30d'\n",
    "\n",
    "    # z-score para cada dia\n",
    "    zscore_30 = (spread_mavg1 - spread_mavg30)/std_30\n",
    "    zscore_30.name = 'z-score'\n",
    "    \n",
    "    return zscore_30"
   ]
  },
  {
   "cell_type": "code",
   "execution_count": 113,
   "metadata": {},
   "outputs": [],
   "source": [
    "def trade_signal_S1(x,sigma_entrada, sigma_saida):\n",
    "    #x = df_trades\n",
    "    #sigma_entrada = std devs (sigmas) pra entrar na posicao\n",
    "    #sigma_saida = std devs (sigmas) pra sair da posicao\n",
    "    \n",
    "    df = copy.deepcopy(x)\n",
    "    \n",
    "    df_trade_signal_S1 = pd.DataFrame(columns=['Date', 'Z Score','Signal S1'])\n",
    "    df_trade_signal_S1['Z Score'] = df['Z Score'].iloc[:,-1]\n",
    "\n",
    "    for j in range(len(df_trade_signal_S1['Z Score'])):\n",
    "        if df_trade_signal_S1['Z Score'].iloc[j] > sigma_entrada:\n",
    "            #print ('Short Spread: short S2 and long S1')\n",
    "            df_trade_signal_S1['Signal S1'][j] = 'Long'\n",
    "            \n",
    "        elif df_trade_signal_S1['Signal S1'].iloc[j-1] == 'Long'and \\\n",
    "        df_trade_signal_S1['Z Score'].iloc[j] > sigma_saida:\n",
    "            \n",
    "            df_trade_signal_S1['Signal S1'][j] = 'Long'\n",
    "\n",
    "        elif df_trade_signal_S1['Signal S1'].iloc[j-1] == 'Long'and \\\n",
    "        df_trade_signal_S1['Z Score'].iloc[j] <= sigma_saida:\n",
    "            \n",
    "            df_trade_signal_S1['Signal S1'][j] = 'Exit position'\n",
    "        \n",
    "        elif df_trade_signal_S1['Z Score'].iloc[j] < -sigma_entrada:\n",
    "            #print ('Long Spread: long S2 and short S1')\n",
    "            df_trade_signal_S1['Signal S1'][j] = 'Short'  \n",
    "        \n",
    "        elif df_trade_signal_S1['Signal S1'].iloc[j-1] == 'Short'and \\\n",
    "        df_trade_signal_S1['Z Score'].iloc[j] < -sigma_saida:\n",
    "            \n",
    "            df_trade_signal_S1['Signal S1'][j] = 'Short'     \n",
    "        \n",
    "        elif df_trade_signal_S1['Signal S1'].iloc[j-1] == 'Short'and \\\n",
    "        df_trade_signal_S1['Z Score'].iloc[j] >= -sigma_saida:\n",
    "            \n",
    "            df_trade_signal_S1['Signal S1'][j] = 'Exit position'\n",
    "            \n",
    "        else:\n",
    "            df_trade_signal_S1['Signal S1'][j] = ''\n",
    "            \n",
    "    return df_trade_signal_S1['Signal S1']"
   ]
  },
  {
   "cell_type": "code",
   "execution_count": 114,
   "metadata": {},
   "outputs": [],
   "source": [
    "def trade_signal_S2(x,sigma_entrada, sigma_saida):\n",
    "    #x = df_trades\n",
    "    #sigma_entrada = std devs (sigmas) pra entrar na posicao\n",
    "    #sigma_saida = std devs (sigmas) pra sair da posicao\n",
    "    \n",
    "    df = copy.deepcopy(x)\n",
    "    \n",
    "    df_trade_signal_S2 = pd.DataFrame(columns=['Date', 'Z Score','Signal S2'])\n",
    "    df_trade_signal_S2['Z Score'] = df['Z Score'].iloc[:,-1]\n",
    "\n",
    "    for j in range(len(df_trade_signal_S2['Z Score'])):\n",
    "        if df_trade_signal_S2['Z Score'].iloc[j] > sigma_entrada:\n",
    "            #print ('Short Spread: short S2 and long S1')\n",
    "            df_trade_signal_S2['Signal S2'][j] = 'Short'\n",
    "            \n",
    "        elif df_trade_signal_S2['Signal S2'].iloc[j-1] == 'Short'and \\\n",
    "        df_trade_signal_S2['Z Score'].iloc[j] > sigma_saida:\n",
    "            \n",
    "            df_trade_signal_S2['Signal S2'][j] = 'Short'\n",
    "\n",
    "        elif df_trade_signal_S2['Signal S2'].iloc[j-1] == 'Short'and \\\n",
    "        df_trade_signal_S2['Z Score'].iloc[j] <= sigma_saida:\n",
    "            \n",
    "            df_trade_signal_S2['Signal S2'][j] = 'Exit position'\n",
    "        \n",
    "        elif df_trade_signal_S2['Z Score'].iloc[j] < -sigma_entrada:\n",
    "            #print ('Long Spread: long S2 and short S1')\n",
    "            df_trade_signal_S2['Signal S2'][j] = 'Long'  \n",
    "        \n",
    "        elif df_trade_signal_S2['Signal S2'].iloc[j-1] == 'Long'and \\\n",
    "        df_trade_signal_S2['Z Score'].iloc[j] < -sigma_saida:\n",
    "            \n",
    "            df_trade_signal_S2['Signal S2'][j] = 'Long'     \n",
    "        \n",
    "        elif df_trade_signal_S2['Signal S2'].iloc[j-1] == 'Long'and \\\n",
    "        df_trade_signal_S2['Z Score'].iloc[j] >= -sigma_saida:\n",
    "            \n",
    "            df_trade_signal_S2['Signal S2'][j] = 'Exit position'\n",
    "            \n",
    "        else:\n",
    "            df_trade_signal_S2['Signal S2'][j] = ''\n",
    "            \n",
    "    return df_trade_signal_S2['Signal S2']"
   ]
  },
  {
   "cell_type": "code",
   "execution_count": 115,
   "metadata": {},
   "outputs": [],
   "source": [
    "def return_S1(x):\n",
    "    #x = df_trades\n",
    "    \n",
    "    df = copy.deepcopy(x)\n",
    "    \n",
    "    df_trade_return_S1 = pd.DataFrame(columns=['Date','S1 price','Trade Signal S1', 'Return S1'])\n",
    "    df_trade_return_S1['S1 price'] = df['S1 price']\n",
    "    df_trade_return_S1['Trade Signal S1'] = df['Trade Signal S1']\n",
    "   \n",
    "    for j in range(len(df_trade_return_S1)):\n",
    "        if df_trade_return_S1['Trade Signal S1'].iloc[j-1] == 'Long':\n",
    "            df_trade_return_S1['Return S1'][j] = df_trade_return_S1['S1 price'][j]/df_trade_return_S1['S1 price'][j-1]-1\n",
    "            \n",
    "        elif df_trade_return_S1['Trade Signal S1'].iloc[j-1] == 'Short':\n",
    "            df_trade_return_S1['Return S1'][j] = df_trade_return_S1['S1 price'][j-1]/df_trade_return_S1['S1 price'][j]-1\n",
    "        \n",
    "        else:\n",
    "            df_trade_return_S1['Return S1'][j]=0\n",
    "    \n",
    "    df_trade_return_S1['Return S1'].iloc[0] = 0\n",
    "    \n",
    "    return df_trade_return_S1['Return S1']"
   ]
  },
  {
   "cell_type": "code",
   "execution_count": 116,
   "metadata": {},
   "outputs": [],
   "source": [
    "def return_S2(x):\n",
    "    #x = df_trades\n",
    "    \n",
    "    df = copy.deepcopy(x)\n",
    "    \n",
    "    df_trade_return_S2 = pd.DataFrame(columns=['Date','S2 price','Trade Signal S2', 'Return S2'])\n",
    "    df_trade_return_S2['S2 price'] = df['S2 price']\n",
    "    df_trade_return_S2['Trade Signal S2'] = df['Trade Signal S2']\n",
    "   \n",
    "    for j in range(len(df_trade_return_S2)):\n",
    "        if df_trade_return_S2['Trade Signal S2'].iloc[j-1] == 'Long':\n",
    "            df_trade_return_S2['Return S2'][j] = df_trade_return_S2['S2 price'][j]/df_trade_return_S2['S2 price'][j-1]-1\n",
    "            \n",
    "        elif df_trade_return_S2['Trade Signal S2'].iloc[j-1] == 'Short':\n",
    "            df_trade_return_S2['Return S2'][j] = df_trade_return_S2['S2 price'][j-1]/df_trade_return_S2['S2 price'][j]-1\n",
    "        \n",
    "        else:\n",
    "            df_trade_return_S2['Return S2'][j]=0\n",
    "    \n",
    "    df_trade_return_S2['Return S2'].iloc[0] = 0\n",
    "    \n",
    "    return df_trade_return_S2['Return S2']"
   ]
  },
  {
   "cell_type": "code",
   "execution_count": 117,
   "metadata": {},
   "outputs": [
    {
     "name": "stdout",
     "output_type": "stream",
     "text": [
      "[*********************100%***********************]  1 of 1 completed\n",
      "[*********************100%***********************]  1 of 1 completed\n",
      "[*********************100%***********************]  1 of 1 completed\n",
      "[*********************100%***********************]  1 of 1 completed\n",
      "[*********************100%***********************]  1 of 1 completed\n",
      "[*********************100%***********************]  1 of 1 completed\n",
      "[*********************100%***********************]  1 of 1 completed\n",
      "[*********************100%***********************]  1 of 1 completed\n",
      "[*********************100%***********************]  1 of 1 completed\n",
      "[*********************100%***********************]  1 of 1 completed\n",
      "[*********************100%***********************]  1 of 1 completed\n"
     ]
    }
   ],
   "source": [
    "start = dt.date.today() + dt.timedelta(1) - dt.timedelta(360)\n",
    "end = dt.date.today() + dt.timedelta(1)\n",
    "prices = {}\n",
    "interval = '1d' #1d para diario, 5m para 5minutos\n",
    "for t in tickers:\n",
    "    try:\n",
    "        prices[t] = yf.download(t,start,end,interval)\n",
    "    except: \n",
    "        continue\n",
    "    prices[t].dropna(how='all', inplace = True)"
   ]
  },
  {
   "cell_type": "code",
   "execution_count": 118,
   "metadata": {},
   "outputs": [],
   "source": [
    "tickers2 = tickers.drop([4,5]) #tira BPAC e BIDI que tiveram IPOs recentes"
   ]
  },
  {
   "cell_type": "code",
   "execution_count": 141,
   "metadata": {},
   "outputs": [
    {
     "name": "stdout",
     "output_type": "stream",
     "text": [
      "[*********************100%***********************]  9 of 9 completed\n",
      "[*********************100%***********************]  9 of 9 completed\n",
      "[*********************100%***********************]  9 of 9 completed\n"
     ]
    },
    {
     "data": {
      "text/plain": [
       "(             BBAS3.SA   BBDC3.SA   BBDC4.SA   BBSE3.SA  BPAN4.SA   BRSR6.SA  \\\n",
       " Date                                                                          \n",
       " 2019-10-11  45.230000  31.400000  34.009998  34.259998      7.77  21.790001   \n",
       " 2019-10-14  45.000000  31.860001  34.490002  34.259998      7.85  21.870001   \n",
       " 2019-10-15  44.380001  32.169998  34.770000  34.410000      7.80  21.750000   \n",
       " 2019-10-16  45.000000  33.150002  35.599998  34.889999      7.65  22.010000   \n",
       " 2019-10-17  44.910000  32.689999  35.000000  35.070000      8.43  22.059999   \n",
       " ...               ...        ...        ...        ...       ...        ...   \n",
       " 2020-09-28  30.510000  18.219999  19.719999  24.250000      8.12  12.100000   \n",
       " 2020-09-29  29.760000  17.889999  19.250000  24.450001      7.93  11.750000   \n",
       " 2020-09-30  29.620001  18.020000  19.410000  24.270000      8.12  11.930000   \n",
       " 2020-10-01  29.790001  18.049999  19.500000  24.610001      8.33  11.900000   \n",
       " 2020-10-02  29.709999  18.120001  19.639999  24.400000      8.39  12.230000   \n",
       " \n",
       "             ITSA4.SA   ITUB4.SA  SANB11.SA  \n",
       " Date                                        \n",
       " 2019-10-11     12.70  33.880001  45.919998  \n",
       " 2019-10-14     12.91  34.450001  46.630001  \n",
       " 2019-10-15     12.93  34.369999  46.099998  \n",
       " 2019-10-16     13.17  34.860001  46.950001  \n",
       " 2019-10-17     13.15  34.650002  46.330002  \n",
       " ...              ...        ...        ...  \n",
       " 2020-09-28      8.97  22.900000  27.770000  \n",
       " 2020-09-29      8.82  22.400000  27.090000  \n",
       " 2020-09-30      8.80  22.500000  27.959999  \n",
       " 2020-10-01      8.90  22.520000  27.900000  \n",
       " 2020-10-02      8.92  22.590000  28.400000  \n",
       " \n",
       " [242 rows x 9 columns],\n",
       "              BBAS3.SA   BBDC3.SA   BBDC4.SA   BBSE3.SA  BPAN4.SA   BRSR6.SA  \\\n",
       " Date                                                                          \n",
       " 2019-10-11  45.230000  31.400000  34.009998  34.259998      7.77  21.790001   \n",
       " 2019-10-14  45.000000  31.860001  34.490002  34.259998      7.85  21.870001   \n",
       " 2019-10-15  44.380001  32.169998  34.770000  34.410000      7.80  21.750000   \n",
       " 2019-10-16  45.000000  33.150002  35.599998  34.889999      7.65  22.010000   \n",
       " 2019-10-17  44.910000  32.689999  35.000000  35.070000      8.43  22.059999   \n",
       " ...               ...        ...        ...        ...       ...        ...   \n",
       " 2020-04-01  26.709999  17.990000  19.860001  24.059999      4.57  11.190000   \n",
       " 2020-04-02  27.020000  18.389999  19.950001  23.480000      4.48  11.250000   \n",
       " 2020-04-03  25.500000  17.670000  19.209999  23.290001      4.16  11.120000   \n",
       " 2020-04-06  27.860001  19.459999  21.030001  23.629999      4.49  11.920000   \n",
       " 2020-04-07  29.170000  20.540001  21.820000  24.980000      4.52  12.020000   \n",
       " \n",
       "             ITSA4.SA   ITUB4.SA  SANB11.SA  \n",
       " Date                                        \n",
       " 2019-10-11     12.70  33.880001  45.919998  \n",
       " 2019-10-14     12.91  34.450001  46.630001  \n",
       " 2019-10-15     12.93  34.369999  46.099998  \n",
       " 2019-10-16     13.17  34.860001  46.950001  \n",
       " 2019-10-17     13.15  34.650002  46.330002  \n",
       " ...              ...        ...        ...  \n",
       " 2020-04-01      8.26  21.400000  24.740000  \n",
       " 2020-04-02      8.37  21.500000  25.510000  \n",
       " 2020-04-03      8.11  20.660000  23.860001  \n",
       " 2020-04-06      8.71  22.180000  26.139999  \n",
       " 2020-04-07      8.97  23.000000  27.360001  \n",
       " \n",
       " [119 rows x 9 columns],\n",
       "              BBAS3.SA   BBDC3.SA   BBDC4.SA   BBSE3.SA  BPAN4.SA  BRSR6.SA  \\\n",
       " Date                                                                         \n",
       " 2020-03-04  45.820000  27.360001  30.450001  31.040001      8.80     17.85   \n",
       " 2020-03-05  43.110001  26.549999  29.450001  30.440001      8.18     16.75   \n",
       " 2020-03-06  42.299999  25.709999  28.610001  30.480000      8.36     16.52   \n",
       " 2020-03-09  37.630001  23.190001  26.549999  28.389999      6.74     14.26   \n",
       " 2020-03-10  39.610001  23.860001  27.190001  29.000000      6.97     16.40   \n",
       " ...               ...        ...        ...        ...       ...       ...   \n",
       " 2020-09-29  29.760000  17.889999  19.250000  24.450001      7.93     11.75   \n",
       " 2020-09-30  29.620001  18.020000  19.410000  24.270000      8.12     11.93   \n",
       " 2020-10-01  29.790001  18.049999  19.500000  24.610001      8.33     11.90   \n",
       " 2020-10-02  29.709999        NaN        NaN  24.400000      8.39     12.23   \n",
       " 2020-10-02  29.709999  18.120001  19.639999  24.400000      8.39     12.23   \n",
       " \n",
       "             ITSA4.SA   ITUB4.SA  SANB11.SA  \n",
       " Date                                        \n",
       " 2020-03-04     12.20  31.600000  38.369999  \n",
       " 2020-03-05     11.83  30.520000  37.660000  \n",
       " 2020-03-06     11.56  29.870001  36.349998  \n",
       " 2020-03-09     10.83  27.799999  32.450001  \n",
       " 2020-03-10     11.06  28.490000  33.590000  \n",
       " ...              ...        ...        ...  \n",
       " 2020-09-29      8.82  22.400000  27.090000  \n",
       " 2020-09-30      8.80  22.500000  27.959999  \n",
       " 2020-10-01      8.90  22.520000  27.900000  \n",
       " 2020-10-02      8.92  22.590000  28.400000  \n",
       " 2020-10-02      8.92  22.590000  28.400000  \n",
       " \n",
       " [149 rows x 9 columns])"
      ]
     },
     "execution_count": 141,
     "metadata": {},
     "output_type": "execute_result"
    }
   ],
   "source": [
    "tickers_list = tickers2.to_list()\n",
    "\n",
    "#df_prices\n",
    "data = yf.download(tickers_list,start,end,interval)['Close']\n",
    "\n",
    "df_prices = pd.DataFrame()\n",
    "df_prices = data\n",
    "df_prices.dropna(how='all', inplace = True)\n",
    "\n",
    "#df_pvalue\n",
    "start_2 = dt.date.today() + dt.timedelta(1) - dt.timedelta(360)\n",
    "end_2 = dt.date.today() + dt.timedelta(1) - dt.timedelta(180)\n",
    "\n",
    "pvalue_prices = yf.download(tickers_list,start_2,end_2,interval)['Close']\n",
    "\n",
    "df_pvalue = pd.DataFrame()\n",
    "df_pvalue = pvalue_prices\n",
    "df_pvalue.dropna(how='all', inplace = True)\n",
    "\n",
    "#df_prices_2\n",
    "start_3 =  dt.date.today() + dt.timedelta(1) - dt.timedelta(215)\n",
    "end_3 = dt.date.today() + dt.timedelta(1)\n",
    "\n",
    "stocks_prices = yf.download(tickers_list,start_3,end_3,interval)['Close']\n",
    "\n",
    "df_prices_2 = pd.DataFrame()\n",
    "df_prices_2 = stocks_prices\n",
    "df_prices_2.dropna(how='all', inplace = True)\n",
    "\n",
    "#fazer um df prices com end = today, start = end2\n",
    "\n",
    "df_prices, df_pvalue, df_prices_2"
   ]
  },
  {
   "cell_type": "code",
   "execution_count": 120,
   "metadata": {},
   "outputs": [],
   "source": [
    "pairs_x = find_cointegrated_pairs(df_pvalue)\n",
    "pairs_x2 =pd.DataFrame()\n",
    "pairs_x2['S1'] = pairs_x.iloc[:,0] \n",
    "pairs_x2['S2'] = pairs_x.iloc[:,1]"
   ]
  },
  {
   "cell_type": "code",
   "execution_count": 121,
   "metadata": {},
   "outputs": [
    {
     "data": {
      "text/plain": [
       "{'S1': {0: 'BBDC3.SA',\n",
       "  1: 'BBDC4.SA',\n",
       "  2: 'BBDC4.SA',\n",
       "  3: 'BRSR6.SA',\n",
       "  4: 'BRSR6.SA'},\n",
       " 'S2': {0: 'BBSE3.SA',\n",
       "  1: 'BBSE3.SA',\n",
       "  2: 'ITSA4.SA',\n",
       "  3: 'ITSA4.SA',\n",
       "  4: 'SANB11.SA'}}"
      ]
     },
     "execution_count": 121,
     "metadata": {},
     "output_type": "execute_result"
    }
   ],
   "source": [
    "portfolio_pairs = pairs_x2.to_dict()\n",
    "portfolio_pairs"
   ]
  },
  {
   "cell_type": "code",
   "execution_count": 122,
   "metadata": {},
   "outputs": [
    {
     "data": {
      "text/plain": [
       "{0: {'S1': 'BBDC3.SA', 'S2': 'BBSE3.SA'},\n",
       " 1: {'S1': 'BBDC4.SA', 'S2': 'BBSE3.SA'},\n",
       " 2: {'S1': 'BBDC4.SA', 'S2': 'ITSA4.SA'},\n",
       " 3: {'S1': 'BRSR6.SA', 'S2': 'ITSA4.SA'},\n",
       " 4: {'S1': 'BRSR6.SA', 'S2': 'SANB11.SA'}}"
      ]
     },
     "execution_count": 122,
     "metadata": {},
     "output_type": "execute_result"
    }
   ],
   "source": [
    "portfolio_pairs_x2 = pairs_x2.T.to_dict()\n",
    "portfolio_pairs_x2"
   ]
  },
  {
   "cell_type": "code",
   "execution_count": 138,
   "metadata": {},
   "outputs": [
    {
     "name": "stderr",
     "output_type": "stream",
     "text": [
      "/Users/user/opt/anaconda3/lib/python3.7/site-packages/ipykernel_launcher.py:41: SettingWithCopyWarning: \n",
      "A value is trying to be set on a copy of a slice from a DataFrame\n",
      "\n",
      "See the caveats in the documentation: https://pandas.pydata.org/pandas-docs/stable/user_guide/indexing.html#returning-a-view-versus-a-copy\n",
      "/Users/user/opt/anaconda3/lib/python3.7/site-packages/ipykernel_launcher.py:14: SettingWithCopyWarning: \n",
      "A value is trying to be set on a copy of a slice from a DataFrame\n",
      "\n",
      "See the caveats in the documentation: https://pandas.pydata.org/pandas-docs/stable/user_guide/indexing.html#returning-a-view-versus-a-copy\n",
      "  \n",
      "/Users/user/opt/anaconda3/lib/python3.7/site-packages/ipykernel_launcher.py:24: SettingWithCopyWarning: \n",
      "A value is trying to be set on a copy of a slice from a DataFrame\n",
      "\n",
      "See the caveats in the documentation: https://pandas.pydata.org/pandas-docs/stable/user_guide/indexing.html#returning-a-view-versus-a-copy\n",
      "/Users/user/opt/anaconda3/lib/python3.7/site-packages/ipykernel_launcher.py:28: SettingWithCopyWarning: \n",
      "A value is trying to be set on a copy of a slice from a DataFrame\n",
      "\n",
      "See the caveats in the documentation: https://pandas.pydata.org/pandas-docs/stable/user_guide/indexing.html#returning-a-view-versus-a-copy\n",
      "/Users/user/opt/anaconda3/lib/python3.7/site-packages/ipykernel_launcher.py:33: SettingWithCopyWarning: \n",
      "A value is trying to be set on a copy of a slice from a DataFrame\n",
      "\n",
      "See the caveats in the documentation: https://pandas.pydata.org/pandas-docs/stable/user_guide/indexing.html#returning-a-view-versus-a-copy\n",
      "/Users/user/opt/anaconda3/lib/python3.7/site-packages/ipykernel_launcher.py:38: SettingWithCopyWarning: \n",
      "A value is trying to be set on a copy of a slice from a DataFrame\n",
      "\n",
      "See the caveats in the documentation: https://pandas.pydata.org/pandas-docs/stable/user_guide/indexing.html#returning-a-view-versus-a-copy\n",
      "/Users/user/opt/anaconda3/lib/python3.7/site-packages/ipykernel_launcher.py:19: SettingWithCopyWarning: \n",
      "A value is trying to be set on a copy of a slice from a DataFrame\n",
      "\n",
      "See the caveats in the documentation: https://pandas.pydata.org/pandas-docs/stable/user_guide/indexing.html#returning-a-view-versus-a-copy\n",
      "/Users/user/opt/anaconda3/lib/python3.7/site-packages/ipykernel_launcher.py:15: SettingWithCopyWarning: \n",
      "A value is trying to be set on a copy of a slice from a DataFrame\n",
      "\n",
      "See the caveats in the documentation: https://pandas.pydata.org/pandas-docs/stable/user_guide/indexing.html#returning-a-view-versus-a-copy\n",
      "  from ipykernel import kernelapp as app\n",
      "/Users/user/opt/anaconda3/lib/python3.7/site-packages/ipykernel_launcher.py:18: SettingWithCopyWarning: \n",
      "A value is trying to be set on a copy of a slice from a DataFrame\n",
      "\n",
      "See the caveats in the documentation: https://pandas.pydata.org/pandas-docs/stable/user_guide/indexing.html#returning-a-view-versus-a-copy\n",
      "/Users/user/opt/anaconda3/lib/python3.7/site-packages/ipykernel_launcher.py:12: SettingWithCopyWarning: \n",
      "A value is trying to be set on a copy of a slice from a DataFrame\n",
      "\n",
      "See the caveats in the documentation: https://pandas.pydata.org/pandas-docs/stable/user_guide/indexing.html#returning-a-view-versus-a-copy\n",
      "  if sys.path[0] == '':\n"
     ]
    }
   ],
   "source": [
    "df_trades = copy.deepcopy(portfolio_pairs_x2)\n",
    "#df_trades = pd.DataFrame(columns =['Date','S1 price', 'S2 price', 'Z Score', 'Trade Signal S1','Trade Signal S2', \\\n",
    "                                  #'Return S1','Return S2','Return Total'])\n",
    "\n",
    "for i in portfolio_pairs_x2.keys():\n",
    "    df_trades[i]['S1 price'] = df_prices[portfolio_pairs['S1'][i]]\n",
    "    df_trades[i]['S2 price'] = df_prices[portfolio_pairs['S2'][i]]\n",
    "    df_trades[i]['Z Score'] = zscore_spread(df_trades[i]['S1 price'],df_trades[i]['S2 price'])\n",
    "    df_trades[i]['Trade Signal S1'] = trade_signal_S1(df_trades[i],1.5,0.5) #quebrar em outro bloco?\n",
    "    df_trades[i]['Trade Signal S2'] = trade_signal_S2(df_trades[i],1.5,0.5) #a funcao trade signal precisa do Z Score\n",
    "    df_trades[i]['Return S1'] = return_S1(df_trades[i]) #quebrar em outro bloco de novo?\n",
    "    df_trades[i]['Return S2'] = return_S2(df_trades[i]) #usa trade signal e price\n",
    "    df_trades[i]['Return Total'] = (df_trades[i]['Return S1'] + df_trades[i]['Return S2'])/2\n",
    "    df_trades[i]['Return Total'].iloc[0] = 1"
   ]
  },
  {
   "cell_type": "code",
   "execution_count": 149,
   "metadata": {},
   "outputs": [],
   "source": [
    "Return_portfolio = 0\n",
    "for i in df_trades:\n",
    "    Return_portfolio += pd.DataFrame(df_trades[i]['Return Total'])"
   ]
  },
  {
   "cell_type": "code",
   "execution_count": 96,
   "metadata": {},
   "outputs": [],
   "source": [
    "Return_portfolio_2 = Return_portfolio/len(df_trades.keys())"
   ]
  },
  {
   "cell_type": "code",
   "execution_count": 150,
   "metadata": {},
   "outputs": [
    {
     "data": {
      "text/html": [
       "<div>\n",
       "<style scoped>\n",
       "    .dataframe tbody tr th:only-of-type {\n",
       "        vertical-align: middle;\n",
       "    }\n",
       "\n",
       "    .dataframe tbody tr th {\n",
       "        vertical-align: top;\n",
       "    }\n",
       "\n",
       "    .dataframe thead th {\n",
       "        text-align: right;\n",
       "    }\n",
       "</style>\n",
       "<table border=\"1\" class=\"dataframe\">\n",
       "  <thead>\n",
       "    <tr style=\"text-align: right;\">\n",
       "      <th></th>\n",
       "      <th>0</th>\n",
       "    </tr>\n",
       "    <tr>\n",
       "      <th>Date</th>\n",
       "      <th></th>\n",
       "    </tr>\n",
       "  </thead>\n",
       "  <tbody>\n",
       "    <tr>\n",
       "      <th>2019-10-11</th>\n",
       "      <td>1</td>\n",
       "    </tr>\n",
       "    <tr>\n",
       "      <th>2019-10-14</th>\n",
       "      <td>1</td>\n",
       "    </tr>\n",
       "    <tr>\n",
       "      <th>2019-10-15</th>\n",
       "      <td>1</td>\n",
       "    </tr>\n",
       "    <tr>\n",
       "      <th>2019-10-16</th>\n",
       "      <td>1</td>\n",
       "    </tr>\n",
       "    <tr>\n",
       "      <th>2019-10-17</th>\n",
       "      <td>1</td>\n",
       "    </tr>\n",
       "    <tr>\n",
       "      <th>...</th>\n",
       "      <td>...</td>\n",
       "    </tr>\n",
       "    <tr>\n",
       "      <th>2020-09-28</th>\n",
       "      <td>1.50256</td>\n",
       "    </tr>\n",
       "    <tr>\n",
       "      <th>2020-09-29</th>\n",
       "      <td>1.51272</td>\n",
       "    </tr>\n",
       "    <tr>\n",
       "      <th>2020-09-30</th>\n",
       "      <td>1.51222</td>\n",
       "    </tr>\n",
       "    <tr>\n",
       "      <th>2020-10-01</th>\n",
       "      <td>1.51257</td>\n",
       "    </tr>\n",
       "    <tr>\n",
       "      <th>2020-10-02</th>\n",
       "      <td>1.51316</td>\n",
       "    </tr>\n",
       "  </tbody>\n",
       "</table>\n",
       "<p>242 rows × 1 columns</p>\n",
       "</div>"
      ],
      "text/plain": [
       "                  0\n",
       "Date               \n",
       "2019-10-11        1\n",
       "2019-10-14        1\n",
       "2019-10-15        1\n",
       "2019-10-16        1\n",
       "2019-10-17        1\n",
       "...             ...\n",
       "2020-09-28  1.50256\n",
       "2020-09-29  1.51272\n",
       "2020-09-30  1.51222\n",
       "2020-10-01  1.51257\n",
       "2020-10-02  1.51316\n",
       "\n",
       "[242 rows x 1 columns]"
      ]
     },
     "execution_count": 150,
     "metadata": {},
     "output_type": "execute_result"
    }
   ],
   "source": [
    "Return_portfolio_3 = (1+Return_portfolio_2).cumprod()-1\n",
    "Return_portfolio_3"
   ]
  },
  {
   "cell_type": "code",
   "execution_count": 98,
   "metadata": {},
   "outputs": [
    {
     "name": "stdout",
     "output_type": "stream",
     "text": [
      "[*********************100%***********************]  1 of 1 completed\n"
     ]
    }
   ],
   "source": [
    "start_BOVA11 = start\n",
    "price_BOVA11 = {}\n",
    "try:\n",
    "    price_BOVA11 = yf.download('BOVA11.SA',start_BOVA11,end,interval='1d')  \n",
    "except: \n",
    "    print('Erro no BOVA11')\n",
    "    pass\n",
    "price_BOVA11.dropna(how='all', inplace = True)"
   ]
  },
  {
   "cell_type": "code",
   "execution_count": 99,
   "metadata": {},
   "outputs": [],
   "source": [
    "price_BOVA11['Ret'] = price_BOVA11['Adj Close'].pct_change()"
   ]
  },
  {
   "cell_type": "code",
   "execution_count": 100,
   "metadata": {},
   "outputs": [],
   "source": [
    "price_BOVA11.drop(price_BOVA11.index[0], inplace=True)"
   ]
  },
  {
   "cell_type": "code",
   "execution_count": 101,
   "metadata": {},
   "outputs": [],
   "source": [
    "BOVA11_ret_acum = (1+price_BOVA11['Ret']).cumprod()"
   ]
  },
  {
   "cell_type": "code",
   "execution_count": 102,
   "metadata": {},
   "outputs": [],
   "source": [
    "BOVA11_ret_acum2 = ((price_BOVA11['Ret']+1).loc[start:end]).cumprod()"
   ]
  },
  {
   "cell_type": "code",
   "execution_count": 103,
   "metadata": {},
   "outputs": [
    {
     "data": {
      "text/plain": [
       "<matplotlib.legend.Legend at 0x7fd2ce981390>"
      ]
     },
     "execution_count": 103,
     "metadata": {},
     "output_type": "execute_result"
    },
    {
     "data": {
      "image/png": "[encoded data removed]",
      "text/plain": [
       "<Figure size 1152x360 with 1 Axes>"
      ]
     },
     "metadata": {
      "needs_background": "light"
     },
     "output_type": "display_data"
    }
   ],
   "source": [
    "#sigma 1.5 e -0.5 --> df_pvalue\n",
    "#fazer o merge de datas, cada dftrades só tem uma coluna de data\n",
    "#variavel pra ativar o trade, um if data > data que eu quero, mando o trade signal rodar, else vazio\n",
    "#retorno de cada par no grafico\n",
    "#grafico com o PL utilizado\n",
    "#contador de trade\n",
    "plt.figure(figsize=(16,5))\n",
    "plt.plot(Return_portfolio_3, marker='', color='blue', linewidth=2, label=\"Estratégia\")\n",
    "plt.plot(BOVA11_ret_acum, marker='', color='orange', linewidth=2, label=\"BOVA11\")\n",
    "plt.legend()"
   ]
  },
  {
   "cell_type": "code",
   "execution_count": null,
   "metadata": {},
   "outputs": [],
   "source": []
  }
 ],
 "metadata": {
  "kernelspec": {
   "display_name": "Python 3",
   "language": "python",
   "name": "python3"
  },
  "language_info": {
   "codemirror_mode": {
    "name": "ipython",
    "version": 3
   },
   "file_extension": ".py",
   "mimetype": "text/x-python",
   "name": "python",
   "nbconvert_exporter": "python",
   "pygments_lexer": "ipython3",
   "version": "3.7.6"
  }
 },
 "nbformat": 4,
 "nbformat_minor": 4
}
